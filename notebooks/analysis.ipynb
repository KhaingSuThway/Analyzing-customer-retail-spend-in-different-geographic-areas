{
 "cells": [
  {
   "cell_type": "code",
   "execution_count": 1,
   "metadata": {},
   "outputs": [],
   "source": [
    "#Install necessary libraries\n",
    "\n",
    "import numpy as np\n",
    "import pandas as pd\n",
    "import matplotlib.pyplot as plt\n",
    "import seaborn as sns7"
   ]
  },
  {
   "cell_type": "code",
   "execution_count": 2,
   "metadata": {},
   "outputs": [
    {
     "data": {
      "text/html": [
       "<div>\n",
       "<style scoped>\n",
       "    .dataframe tbody tr th:only-of-type {\n",
       "        vertical-align: middle;\n",
       "    }\n",
       "\n",
       "    .dataframe tbody tr th {\n",
       "        vertical-align: top;\n",
       "    }\n",
       "\n",
       "    .dataframe thead th {\n",
       "        text-align: right;\n",
       "    }\n",
       "</style>\n",
       "<table border=\"1\" class=\"dataframe\">\n",
       "  <thead>\n",
       "    <tr style=\"text-align: right;\">\n",
       "      <th></th>\n",
       "      <th>company_id</th>\n",
       "      <th>address</th>\n",
       "      <th>total_spend</th>\n",
       "    </tr>\n",
       "  </thead>\n",
       "  <tbody>\n",
       "    <tr>\n",
       "      <th>0</th>\n",
       "      <td>1</td>\n",
       "      <td>APARTMENT 2,\\n52 BEDFORD ROAD,\\nLONDON,\\nENGLA...</td>\n",
       "      <td>5700</td>\n",
       "    </tr>\n",
       "    <tr>\n",
       "      <th>1</th>\n",
       "      <td>2</td>\n",
       "      <td>107 SHERINGHAM AVENUE,\\nLONDON,\\nN14 4UJ</td>\n",
       "      <td>4700</td>\n",
       "    </tr>\n",
       "    <tr>\n",
       "      <th>2</th>\n",
       "      <td>3</td>\n",
       "      <td>43 SUNNINGDALE,\\nYATE,\\nBRISTOL,\\nENGLAND,\\nBS...</td>\n",
       "      <td>5900</td>\n",
       "    </tr>\n",
       "    <tr>\n",
       "      <th>3</th>\n",
       "      <td>4</td>\n",
       "      <td>HAWESWATER HOUSE,\\nLINGLEY MERE BUSINESS PARK,...</td>\n",
       "      <td>7200</td>\n",
       "    </tr>\n",
       "    <tr>\n",
       "      <th>4</th>\n",
       "      <td>5</td>\n",
       "      <td>AMBERFIELD BARN HOUSE AMBER LANE,\\nCHART SUTTO...</td>\n",
       "      <td>4600</td>\n",
       "    </tr>\n",
       "  </tbody>\n",
       "</table>\n",
       "</div>"
      ],
      "text/plain": [
       "   company_id                                            address  total_spend\n",
       "0           1  APARTMENT 2,\\n52 BEDFORD ROAD,\\nLONDON,\\nENGLA...         5700\n",
       "1           2           107 SHERINGHAM AVENUE,\\nLONDON,\\nN14 4UJ         4700\n",
       "2           3  43 SUNNINGDALE,\\nYATE,\\nBRISTOL,\\nENGLAND,\\nBS...         5900\n",
       "3           4  HAWESWATER HOUSE,\\nLINGLEY MERE BUSINESS PARK,...         7200\n",
       "4           5  AMBERFIELD BARN HOUSE AMBER LANE,\\nCHART SUTTO...         4600"
      ]
     },
     "execution_count": 2,
     "metadata": {},
     "output_type": "execute_result"
    }
   ],
   "source": [
    "customers_data = pd.read_csv(r'../Data/addresses.csv')\n",
    "customers_data.head()"
   ]
  },
  {
   "cell_type": "markdown",
   "metadata": {},
   "source": [
    "### Data Overview and Documentation\n",
    "\n",
    "When working with new datasets, it's crucial to document the structure and content of the data for several reasons:\n",
    "1. Ensures clarity for team members and stakeholders\n",
    "2. Facilitates future data processing and analysis\n",
    "3. Provides a foundation for database schema design\n",
    "4. Aids in maintaining data governance standards\n",
    "\n",
    "### Customer Data Dictionary\n",
    "\n",
    "| Column Name | Data Type | Description |\n",
    "|-------------|-----------|-------------|\n",
    "| company_id  | INT64     | Unique identifier assigned to each customer company |\n",
    "| address     | STRING    | Complete postal address of the customer |\n",
    "| total_spend | INT64     | Cumulative spending amount per customer (in GBP) |\n",
    "\n",
    "**Note**: This dataset contains transaction records for business customers, with monetary values represented in British Pounds Sterling (GBP)."
   ]
  },
  {
   "cell_type": "code",
   "execution_count": 3,
   "metadata": {},
   "outputs": [
    {
     "name": "stdout",
     "output_type": "stream",
     "text": [
      "<class 'pandas.core.frame.DataFrame'>\n",
      "RangeIndex: 100000 entries, 0 to 99999\n",
      "Data columns (total 3 columns):\n",
      " #   Column       Non-Null Count   Dtype \n",
      "---  ------       --------------   ----- \n",
      " 0   company_id   100000 non-null  int64 \n",
      " 1   address      99032 non-null   object\n",
      " 2   total_spend  100000 non-null  int64 \n",
      "dtypes: int64(2), object(1)\n",
      "memory usage: 2.3+ MB\n"
     ]
    }
   ],
   "source": [
    "customers_data.info()"
   ]
  },
  {
   "cell_type": "code",
   "execution_count": 4,
   "metadata": {},
   "outputs": [
    {
     "data": {
      "text/plain": [
       "(100000, 3)"
      ]
     },
     "execution_count": 4,
     "metadata": {},
     "output_type": "execute_result"
    }
   ],
   "source": [
    "customers_data.shape"
   ]
  },
  {
   "cell_type": "markdown",
   "metadata": {},
   "source": [
    "### Data Exploration Insights\n",
    "\n",
    "Understanding the fundamental characteristics of our dataset (such as shape and info ) provides several key advantages:\n",
    "\n",
    "1. **Data Structure Analysis**\n",
    "   - Identification of data types per column\n",
    "   - Assessment of storage requirements\n",
    "   - Overview of dataset dimensions and scale\n",
    "\n",
    "2. **Query Optimization**\n",
    "   - Informs decisions about data partitioning strategies\n",
    "   - Helps optimize cloud computing costs, particularly in platforms like Google BigQuery\n",
    "   - Enables efficient query planning and execution\n",
    "\n",
    "3. **Performance Considerations**\n",
    "   - Guides decisions on indexing strategies\n",
    "   - Helps determine appropriate storage optimization techniques\n",
    "   - Facilitates cost-effective query execution planning\n",
    "\n",
    "This preliminary analysis is crucial for both data engineering decisions and cost optimization in cloud environments."
   ]
  },
  {
   "cell_type": "code",
   "execution_count": 5,
   "metadata": {},
   "outputs": [
    {
     "data": {
      "text/plain": [
       "count    100000.000000\n",
       "mean       4951.662000\n",
       "std        1500.983866\n",
       "min           0.000000\n",
       "25%        3900.000000\n",
       "50%        5000.000000\n",
       "75%        6000.000000\n",
       "max       11700.000000\n",
       "Name: total_spend, dtype: float64"
      ]
     },
     "execution_count": 5,
     "metadata": {},
     "output_type": "execute_result"
    }
   ],
   "source": [
    "customers_data['total_spend'].describe()"
   ]
  },
  {
   "cell_type": "code",
   "execution_count": 6,
   "metadata": {},
   "outputs": [
    {
     "data": {
      "text/plain": [
       "company_id       0\n",
       "address        968\n",
       "total_spend      0\n",
       "dtype: int64"
      ]
     },
     "execution_count": 6,
     "metadata": {},
     "output_type": "execute_result"
    }
   ],
   "source": [
    "#After understanding the data, we need to investigate if there are any missing values or duplicates.\n",
    "customers_data.isnull().sum()"
   ]
  },
  {
   "cell_type": "markdown",
   "metadata": {},
   "source": [
    "We can see there are 968 missing addresses, which is just under 1% of our rows. Since we have no way of knowing the addresses of those missing customers just from the data provided, we can safely drop these rows:"
   ]
  },
  {
   "cell_type": "code",
   "execution_count": 7,
   "metadata": {},
   "outputs": [
    {
     "data": {
      "text/plain": [
       "(99032, 3)"
      ]
     },
     "execution_count": 7,
     "metadata": {},
     "output_type": "execute_result"
    }
   ],
   "source": [
    "customers_data = customers_data.dropna(subset=['address'])\n",
    "customers_data.shape\n"
   ]
  },
  {
   "cell_type": "markdown",
   "metadata": {},
   "source": [
    "Losing 1% due to missing key information is fine. If, say, 10% of our customers had missing addresses, we might want to examine why. Alternative solution is, categorizing missing addresses as “Other”"
   ]
  },
  {
   "cell_type": "code",
   "execution_count": 8,
   "metadata": {},
   "outputs": [
    {
     "data": {
      "text/plain": [
       "np.int64(0)"
      ]
     },
     "execution_count": 8,
     "metadata": {},
     "output_type": "execute_result"
    }
   ],
   "source": [
    "customers_data.duplicated().sum()"
   ]
  },
  {
   "cell_type": "code",
   "execution_count": 9,
   "metadata": {},
   "outputs": [
    {
     "data": {
      "text/plain": [
       "count    99032.000000\n",
       "mean      4951.673197\n",
       "std       1500.642398\n",
       "min          0.000000\n",
       "25%       3900.000000\n",
       "50%       5000.000000\n",
       "75%       6000.000000\n",
       "max      11700.000000\n",
       "Name: total_spend, dtype: float64"
      ]
     },
     "execution_count": 9,
     "metadata": {},
     "output_type": "execute_result"
    }
   ],
   "source": [
    "customers_data['total_spend'].describe()"
   ]
  },
  {
   "cell_type": "markdown",
   "metadata": {},
   "source": [
    "### Spending Analysis Overview\n",
    "\n",
    "Based on the descriptive statistics of the `total_spend` column, we can observe several key insights:\n",
    "\n",
    "1. **Data Quality Assessment**\n",
    "   - No negative values detected in the spending data\n",
    "   - All values are within reasonable business transaction ranges\n",
    "   - The data distribution appears to be well-structured\n",
    "\n",
    "2. **Key Metrics**\n",
    "   - Mean customer spend: £4,951.67\n",
    "   - Median customer spend: £5,000.00\n",
    "   - Standard deviation: £1,500.64\n",
    "   - Range: £0 to just under £12,000\n",
    "\n",
    "3. **Distribution Characteristics**\n",
    "   - 25th percentile: £3,900\n",
    "   - 75th percentile: £6,000\n",
    "   - The distribution shows a relatively normal pattern with slight right skew\n",
    "\n",
    "This analysis provides a solid foundation for our geographic spending analysis.Now that we have seen our data, we need to decide on an approach to extract the information about cities."
   ]
  },
  {
   "cell_type": "code",
   "execution_count": 10,
   "metadata": {},
   "outputs": [
    {
     "name": "stdout",
     "output_type": "stream",
     "text": [
      "APARTMENT 2,\n",
      "52 BEDFORD ROAD,\n",
      "LONDON,\n",
      "ENGLAND,\n",
      "SW4 7HJ \n",
      "\n",
      "107 SHERINGHAM AVENUE,\n",
      "LONDON,\n",
      "N14 4UJ \n",
      "\n",
      "43 SUNNINGDALE,\n",
      "YATE,\n",
      "BRISTOL,\n",
      "ENGLAND,\n",
      "BS37 4HZ \n",
      "\n",
      "MARLAND HOUSE,\n",
      "13 HUDDERSFIELD ROAD,\n",
      "BARNSLEY,\n",
      "SOUTH YORKSHIRE,\n",
      "ENGLAND,\n",
      "S70 2LW \n",
      "\n",
      "4 MOUNT SCAR VIEW,\n",
      "SCHOLES,\n",
      "HOLMFIRTH HUDDERSFIELD,\n",
      "WEST YORKSHIRE,\n",
      "HD9 1XH \n",
      "\n",
      "Manningham Mills Community Center, Silk Warehouse,\n",
      "Lilycroft Road,\n",
      "Bradford,\n",
      "United Kingdom,\n",
      "Bd9 5Be \n",
      "\n"
     ]
    }
   ],
   "source": [
    "#Before deciding on a method, we should look at some sample addresses.\n",
    "for address in customers_data['address'].head(3):\n",
    "    print(address,\"\\n\")\n",
    "for address in customers_data['address'].tail(3):\n",
    "    print(address, \"\\n\")"
   ]
  },
  {
   "cell_type": "markdown",
   "metadata": {},
   "source": [
    "### Address Pattern Analysis\n",
    "\n",
    "Initial examination of the sample addresses reveals several important patterns and considerations for data processing:\n",
    "\n",
    "1. **Address Structure Patterns**\n",
    "   - All addresses end with a postcode\n",
    "   - Inconsistent inclusion of \"ENGLAND\" before postcodes\n",
    "   - Address components are separated by commas and newline characters\n",
    "   - Current sample shows uppercase formatting\n",
    "\n",
    "2. **Data Quality Considerations**\n",
    "   - Cannot rely on fixed position for city extraction\n",
    "   - Need to implement robust parsing logic\n",
    "   - Must handle inconsistent formatting\n",
    "\n",
    "3. **Data Processing Strategy**\n",
    "   - Standardize all addresses to uppercase format\n",
    "   - Preserve original data in a separate column\n",
    "   - Implement flexible parsing to handle variations\n",
    "\n",
    "4. **Best Practices**\n",
    "   - Maintain raw data for reference and validation\n",
    "   - Create new column for processed addresses\n",
    "   - Document any data transformations\n",
    "\n",
    "This analysis will guide our approach to geographic data extraction and standardization."
   ]
  },
  {
   "cell_type": "code",
   "execution_count": 11,
   "metadata": {},
   "outputs": [
    {
     "data": {
      "text/html": [
       "<div>\n",
       "<style scoped>\n",
       "    .dataframe tbody tr th:only-of-type {\n",
       "        vertical-align: middle;\n",
       "    }\n",
       "\n",
       "    .dataframe tbody tr th {\n",
       "        vertical-align: top;\n",
       "    }\n",
       "\n",
       "    .dataframe thead th {\n",
       "        text-align: right;\n",
       "    }\n",
       "</style>\n",
       "<table border=\"1\" class=\"dataframe\">\n",
       "  <thead>\n",
       "    <tr style=\"text-align: right;\">\n",
       "      <th></th>\n",
       "      <th>company_id</th>\n",
       "      <th>address</th>\n",
       "      <th>total_spend</th>\n",
       "      <th>address_cleaned</th>\n",
       "      <th>address_lines</th>\n",
       "    </tr>\n",
       "  </thead>\n",
       "  <tbody>\n",
       "    <tr>\n",
       "      <th>0</th>\n",
       "      <td>1</td>\n",
       "      <td>APARTMENT 2,\\n52 BEDFORD ROAD,\\nLONDON,\\nENGLA...</td>\n",
       "      <td>5700</td>\n",
       "      <td>APARTMENT 2,\\n52 BEDFORD ROAD,\\nLONDON,\\nENGLA...</td>\n",
       "      <td>5</td>\n",
       "    </tr>\n",
       "    <tr>\n",
       "      <th>1</th>\n",
       "      <td>2</td>\n",
       "      <td>107 SHERINGHAM AVENUE,\\nLONDON,\\nN14 4UJ</td>\n",
       "      <td>4700</td>\n",
       "      <td>107 SHERINGHAM AVENUE,\\nLONDON,\\nN14 4UJ</td>\n",
       "      <td>3</td>\n",
       "    </tr>\n",
       "    <tr>\n",
       "      <th>2</th>\n",
       "      <td>3</td>\n",
       "      <td>43 SUNNINGDALE,\\nYATE,\\nBRISTOL,\\nENGLAND,\\nBS...</td>\n",
       "      <td>5900</td>\n",
       "      <td>43 SUNNINGDALE,\\nYATE,\\nBRISTOL,\\nENGLAND,\\nBS...</td>\n",
       "      <td>5</td>\n",
       "    </tr>\n",
       "  </tbody>\n",
       "</table>\n",
       "</div>"
      ],
      "text/plain": [
       "   company_id                                            address  total_spend  \\\n",
       "0           1  APARTMENT 2,\\n52 BEDFORD ROAD,\\nLONDON,\\nENGLA...         5700   \n",
       "1           2           107 SHERINGHAM AVENUE,\\nLONDON,\\nN14 4UJ         4700   \n",
       "2           3  43 SUNNINGDALE,\\nYATE,\\nBRISTOL,\\nENGLAND,\\nBS...         5900   \n",
       "\n",
       "                                     address_cleaned  address_lines  \n",
       "0  APARTMENT 2,\\n52 BEDFORD ROAD,\\nLONDON,\\nENGLA...              5  \n",
       "1           107 SHERINGHAM AVENUE,\\nLONDON,\\nN14 4UJ              3  \n",
       "2  43 SUNNINGDALE,\\nYATE,\\nBRISTOL,\\nENGLAND,\\nBS...              5  "
      ]
     },
     "execution_count": 11,
     "metadata": {},
     "output_type": "execute_result"
    }
   ],
   "source": [
    "customers_data['address_cleaned']=customers_data['address'].str.upper()\n",
    "customers_data['address_lines']=customers_data['address_cleaned'].str.split(\",\\n\").apply(len)\n",
    "customers_data.head(3)"
   ]
  },
  {
   "cell_type": "code",
   "execution_count": 12,
   "metadata": {},
   "outputs": [
    {
     "data": {
      "text/plain": [
       "address_lines\n",
       "1        6\n",
       "2       52\n",
       "3     3284\n",
       "4    35850\n",
       "5    45931\n",
       "6    13909\n",
       "Name: count, dtype: int64"
      ]
     },
     "execution_count": 12,
     "metadata": {},
     "output_type": "execute_result"
    }
   ],
   "source": [
    "customers_data['address_lines'].value_counts().sort_index()"
   ]
  },
  {
   "cell_type": "markdown",
   "metadata": {},
   "source": [
    "### Address Line Structure Analysis\n",
    "\n",
    "Following the standardization of address casing, we conducted a comprehensive analysis of address line patterns:\n",
    "\n",
    "1. **Address Line Distribution**\n",
    "   - Total unique line count patterns: 6 different structures\n",
    "   - Distribution breakdown:\n",
    "     * 1-line addresses: 6 records\n",
    "     * 2-line addresses: 52 records\n",
    "     * 3-line addresses: 3,284 records\n",
    "     * 4-line addresses: 35,850 records\n",
    "     * 5-line addresses: 45,931 records\n",
    "     * 6-line addresses: 13,909 records\n",
    "\n",
    "2. **Key Observations**\n",
    "   - 5-line addresses are the most common format (46.4% of records)\n",
    "   - Significant variation in address structure complexity\n",
    "   - Potential for pattern-based city extraction\n",
    "\n",
    "3. **Analysis Methodology**\n",
    "   - Split addresses into component lines using comma and newline delimiters\n",
    "   - Calculated line count per address\n",
    "   - Generated frequency distribution of address structures\n",
    "\n",
    "4. **Next Steps**\n",
    "   - Examine shorter address formats (1-2 lines) for potential patterns\n",
    "   - Develop extraction rules based on line count patterns\n",
    "   - Validate consistency within each address structure type\n",
    "\n"
   ]
  },
  {
   "cell_type": "code",
   "execution_count": 13,
   "metadata": {},
   "outputs": [
    {
     "name": "stdout",
     "output_type": "stream",
     "text": [
      "17789                      FALKIRK\n",
      "31897                   HADDINGTON\n",
      "61750          CREAG BHAITHEACHAIN\n",
      "75330                     NEWMILNS\n",
      "78045    REDCLOAK FARM, STONEHAVEN\n",
      "90897     REFER TO PARENT REGISTRY\n",
      "Name: address_cleaned, dtype: object\n",
      "57728                    1 RIDING HOUSE STREET,\\nLONDON\n",
      "78045                         REDCLOAK FARM, STONEHAVEN\n",
      "62736    BRANCH REGISTRATION,\\nREFER TO PARENT REGISTRY\n",
      "90897                          REFER TO PARENT REGISTRY\n",
      "97177                     50 JAMES STREET,\\nHELENSBURGH\n",
      "37527                          LANDS OF MUIRTON,\\nPERTH\n",
      "Name: address_cleaned, dtype: object\n"
     ]
    }
   ],
   "source": [
    "#Looks at six random rows that have only one line and two lines of address. \n",
    "print(customers_data.loc[customers_data[\"address_lines\"] == 1, \"address_cleaned\"])\n",
    "print(customers_data[(customers_data['address_lines'] == 1) | (customers_data['address_lines'] == 2)]\n",
    "      .sample(6, random_state=5)['address_cleaned'])\n"
   ]
  },
  {
   "cell_type": "markdown",
   "metadata": {},
   "source": [
    "### City Extraction Strategy Analysis\n",
    "\n",
    "**Current Data Challenges:**\n",
    "- Some addresses contain only city names (e.g., \"FALKIRK\")\n",
    "- Missing addresses with \"REFER TO PARENT REGISTRY\" notes\n",
    "- Variable address line structures\n",
    "\n",
    "**Potential Extraction Methods:**\n",
    "\n",
    "1. **Line Position-Based**\n",
    "   - Extract city based on fixed line position\n",
    "   - Pros: Simple implementation\n",
    "   - Cons: High error risk due to address variability\n",
    "\n",
    "2. **City List Matching** (Recommended)\n",
    "   - Match against predefined UK city list\n",
    "   - Pros: Balance of accuracy and complexity\n",
    "   - Cons: May miss non-city locations\n",
    "\n",
    "3. **Postcode Database Lookup**\n",
    "   - Use national postcode database\n",
    "   - Pros: High accuracy\n",
    "   - Cons: Requires external data source and permissions\n",
    "\n",
    "4. **External API Integration**\n",
    "   - Use services like Google Maps API\n",
    "   - Pros: Comprehensive and accurate\n",
    "   - Cons: Cost and API dependencies\n",
    "\n",
    "**Implementation Plan:**\n",
    "1. Source UK city list from [gov.uk](https://www.gov.uk/government/publications/list-of-cities/list-of-cities-html)\n",
    "2. Convert to structured format (Excel/CSV)\n",
    "3. Implement city name matching algorithm"
   ]
  },
  {
   "cell_type": "code",
   "execution_count": 14,
   "metadata": {},
   "outputs": [
    {
     "name": "stdout",
     "output_type": "stream",
     "text": [
      "              city\n",
      "0          England\n",
      "1             Bath\n",
      "2      Birmingham*\n",
      "3        Bradford*\n",
      "4  Brighton & Hove\n",
      "(80, 1)\n"
     ]
    }
   ],
   "source": [
    "cities = pd.read_csv(r\"..\\Data\\cities.csv\",header=None, names=[\"city\"])\n",
    "print(cities.head())\n",
    "print(cities.shape)"
   ]
  },
  {
   "cell_type": "markdown",
   "metadata": {},
   "source": [
    "There are clearly some aspects of this data to clean before using it as a definitive list of cities. First, the country headings were included as rows in the data, so the values England, Scotland, Wales, and Northern Ireland need to be removed. Then, the trailing asterisk * character also needs to be trimmed, and the remaining city names should be uppercased to match our address data."
   ]
  },
  {
   "cell_type": "code",
   "execution_count": 15,
   "metadata": {},
   "outputs": [
    {
     "name": "stdout",
     "output_type": "stream",
     "text": [
      "(77, 1)\n"
     ]
    },
    {
     "data": {
      "text/html": [
       "<div>\n",
       "<style scoped>\n",
       "    .dataframe tbody tr th:only-of-type {\n",
       "        vertical-align: middle;\n",
       "    }\n",
       "\n",
       "    .dataframe tbody tr th {\n",
       "        vertical-align: top;\n",
       "    }\n",
       "\n",
       "    .dataframe thead th {\n",
       "        text-align: right;\n",
       "    }\n",
       "</style>\n",
       "<table border=\"1\" class=\"dataframe\">\n",
       "  <thead>\n",
       "    <tr style=\"text-align: right;\">\n",
       "      <th></th>\n",
       "      <th>city</th>\n",
       "    </tr>\n",
       "  </thead>\n",
       "  <tbody>\n",
       "    <tr>\n",
       "      <th>1</th>\n",
       "      <td>BATH</td>\n",
       "    </tr>\n",
       "    <tr>\n",
       "      <th>2</th>\n",
       "      <td>BIRMINGHAM</td>\n",
       "    </tr>\n",
       "    <tr>\n",
       "      <th>3</th>\n",
       "      <td>BRADFORD</td>\n",
       "    </tr>\n",
       "    <tr>\n",
       "      <th>4</th>\n",
       "      <td>BRIGHTON &amp; HOVE</td>\n",
       "    </tr>\n",
       "    <tr>\n",
       "      <th>5</th>\n",
       "      <td>BRISTOL</td>\n",
       "    </tr>\n",
       "  </tbody>\n",
       "</table>\n",
       "</div>"
      ],
      "text/plain": [
       "              city\n",
       "1             BATH\n",
       "2       BIRMINGHAM\n",
       "3         BRADFORD\n",
       "4  BRIGHTON & HOVE\n",
       "5          BRISTOL"
      ]
     },
     "execution_count": 15,
     "metadata": {},
     "output_type": "execute_result"
    }
   ],
   "source": [
    "countries_to_remove=['England','Scotland','Wales','Nothern Ireland']\n",
    "index_to_remove=cities[cities['city'].isin(countries_to_remove)].index\n",
    "cities=cities.drop(index=index_to_remove)\n",
    "print(cities.shape)\n",
    "\n",
    "cities['city']=cities['city'].str.replace('*','',regex=False)\n",
    "cities['city']=cities['city'].str.upper()\n",
    "cities.head()"
   ]
  },
  {
   "cell_type": "code",
   "execution_count": 16,
   "metadata": {},
   "outputs": [
    {
     "data": {
      "text/plain": [
       "city\n",
       "OTHER                  54041\n",
       "LONDON                 20762\n",
       "MANCHESTER              1902\n",
       "BIRMINGHAM              1866\n",
       "GLASGOW                 1273\n",
       "                       ...  \n",
       "WESTMINSTER               10\n",
       "ST ASAPH                   9\n",
       "BRIGHTON & HOVE            2\n",
       "NEWCASTLE-UPON-TYNE        2\n",
       "ST DAVIDS                  2\n",
       "Name: count, Length: 76, dtype: int64"
      ]
     },
     "execution_count": 16,
     "metadata": {},
     "output_type": "execute_result"
    }
   ],
   "source": [
    "for city in cities[\"city\"].values:\n",
    "    customers_data.loc[customers_data[\"address_cleaned\"].str.contains(f\"\\n{city},\"),\"city\"] = city\n",
    "    customers_data[\"city\"] = customers_data[\"city\"].fillna(\"OTHER\")\n",
    "customers_data['city'].value_counts()"
   ]
  },
  {
   "cell_type": "markdown",
   "metadata": {},
   "source": [
    "Over half of our data is in the “Other” category, which means half of our customer base is established outside of major cities. This is an important insight to communicate to our stakeholders. Let’s look at some addresses from this category,"
   ]
  },
  {
   "cell_type": "code",
   "execution_count": 17,
   "metadata": {},
   "outputs": [
    {
     "name": "stdout",
     "output_type": "stream",
     "text": [
      "132 PENSBY ROAD,\n",
      "HESWALL,\n",
      "WIRRAL,\n",
      "UNITED KINGDOM,\n",
      "CH60 7RQ \n",
      "\n",
      "27 LONGMEAD,\n",
      "HATFIELD,\n",
      "AL10 0AD \n",
      "\n",
      "3 THE WEDGES,\n",
      "ITCHINGFIELD,\n",
      "HORSHAM,\n",
      "ENGLAND,\n",
      "RH13 0TA \n",
      "\n",
      "3 FILERS WAY,\n",
      "WESTON GATEWAY BUSINESS PARK,\n",
      "WESTON-SUPER-MARE,\n",
      "UNITED KINGDOM,\n",
      "BS24 7JP \n",
      "\n",
      "1 VERNON PLACE,\n",
      "SCARBOROUGH,\n",
      "ENGLAND,\n",
      "YO11 2NH \n",
      "\n"
     ]
    }
   ],
   "source": [
    "sample_of_other=customers_data[customers_data['city']=='OTHER'].sample(5,random_state=42)\n",
    "for address in sample_of_other['address_cleaned'].values:\n",
    "    print(address,'\\n')"
   ]
  },
  {
   "cell_type": "markdown",
   "metadata": {},
   "source": [
    "If we're looking for addresses specifically tied to London, the postcode would start with \"E,\" \"N,\" \"NW,\" \"SE,\" \"SW,\" \"W,\" or \"WC,\" which are the main London postal districts.Unless we have knowledge of UK geography, we may miss these instances of London addresses without the word “London” in them."
   ]
  },
  {
   "cell_type": "markdown",
   "metadata": {},
   "source": [
    "#### Solution Approach\n",
    "To address this issue, a solution that reclassifies addresses based on their postal codes:\n",
    "\n",
    "1. **Postal Code Identification**: defined a list of postal code prefixes that are unique to London. This way, we can spot London addresses even if they don't say \"London.\"\n",
    "\n",
    "2. **Chunk Processing**: To efficiently handle the large dataset and avoid memory errors, we processed the data in smaller chunks. This keeps everything efficient and within limits.\n",
    "\n",
    "3. **Reclassification Logic**: For each chunk, we extracted the postal code from the address and checked if it matched any of the London prefixes. If it did, we changed the city to \"LONDON.\"\n",
    "\n",
    "4. **Outcome**: This approach helped us reclassify a lot of addresses, giving us a clearer picture of our London customer base. Now, our city distribution is more accurate, which is great for planning. By using postal codes, we've made our geographic analysis more reliable, ensuring our business decisions are based on solid data."
   ]
  },
  {
   "cell_type": "code",
   "execution_count": 18,
   "metadata": {},
   "outputs": [
    {
     "name": "stdout",
     "output_type": "stream",
     "text": [
      "\n",
      "Updated city distribution after London postcode correction:\n",
      "city\n",
      "OTHER                  53872\n",
      "LONDON                 20931\n",
      "MANCHESTER              1902\n",
      "BIRMINGHAM              1866\n",
      "GLASGOW                 1273\n",
      "                       ...  \n",
      "WESTMINSTER               10\n",
      "ST ASAPH                   9\n",
      "BRIGHTON & HOVE            2\n",
      "NEWCASTLE-UPON-TYNE        2\n",
      "ST DAVIDS                  2\n",
      "Name: count, Length: 76, dtype: int64\n",
      "\n",
      "Total addresses reclassified as London: 169\n"
     ]
    }
   ],
   "source": [
    "# Define London postal district prefixes\n",
    "london_districts = ['E', 'EC', 'N', 'NW', 'SE', 'SW', 'W', 'WC']\n",
    "\n",
    "# Create a function to check if a postcode is in London\n",
    "def is_london_postcode(postcode):\n",
    "    for prefix in london_districts:\n",
    "        if postcode.startswith(prefix) and (len(prefix) == 1 and postcode[1].isdigit() or len(prefix) == 2):\n",
    "            return True\n",
    "    return False\n",
    "\n",
    "# Get indices of 'OTHER' addresses\n",
    "other_indices = customers_data[customers_data['city'] == 'OTHER'].index\n",
    "\n",
    "# Process in smaller chunks to avoid memory issues\n",
    "chunk_size = 500\n",
    "total_reclassified = 0\n",
    "\n",
    "for i in range(0, len(other_indices), chunk_size):\n",
    "    chunk_indices = other_indices[i:i + chunk_size]\n",
    "    chunk_data = customers_data.loc[chunk_indices]\n",
    "    \n",
    "    # Extract postcodes and check if they're London postcodes\n",
    "    postcodes = chunk_data['address_cleaned'].apply(lambda x: x.split('\\n')[-1].strip())\n",
    "    london_mask = postcodes.apply(is_london_postcode)\n",
    "    \n",
    "    # Update city for London addresses in this chunk\n",
    "    customers_data.loc[chunk_indices[london_mask], 'city'] = 'LONDON'\n",
    "    total_reclassified += london_mask.sum()\n",
    "\n",
    "print(\"\\nUpdated city distribution after London postcode correction:\")\n",
    "print(customers_data['city'].value_counts())\n",
    "print(f\"\\nTotal addresses reclassified as London: {total_reclassified}\")\n"
   ]
  },
  {
   "cell_type": "markdown",
   "metadata": {},
   "source": [
    "One sanity check at this point is to see how many unique cities are in the government data and our tagged address data. Depending on the business, we might assume that we have at least one customer in every major UK city, and we can verify this."
   ]
  },
  {
   "cell_type": "code",
   "execution_count": 19,
   "metadata": {},
   "outputs": [
    {
     "data": {
      "text/plain": [
       "{'KINGSTON-UPON-HULL'}"
      ]
     },
     "execution_count": 19,
     "metadata": {},
     "output_type": "execute_result"
    }
   ],
   "source": [
    "set(cities['city'])-set(customers_data['city'])"
   ]
  },
  {
   "cell_type": "markdown",
   "metadata": {},
   "source": [
    "The output of this code is the string {'KINGSTON-UPON-HULL'}, which tells us that the city Kingston-upon-Hull is not in the city column of our customer address data.This either means we have no customers there, which is not impossible given its population is only around 250,000, or there is something else going on. The city is usually abbreviated to just “Hull,” which again is a case of applying specific domain knowledge to the problem, so let’s look for that in our address data:"
   ]
  },
  {
   "cell_type": "code",
   "execution_count": 20,
   "metadata": {},
   "outputs": [
    {
     "data": {
      "text/html": [
       "<div>\n",
       "<style scoped>\n",
       "    .dataframe tbody tr th:only-of-type {\n",
       "        vertical-align: middle;\n",
       "    }\n",
       "\n",
       "    .dataframe tbody tr th {\n",
       "        vertical-align: top;\n",
       "    }\n",
       "\n",
       "    .dataframe thead th {\n",
       "        text-align: right;\n",
       "    }\n",
       "</style>\n",
       "<table border=\"1\" class=\"dataframe\">\n",
       "  <thead>\n",
       "    <tr style=\"text-align: right;\">\n",
       "      <th></th>\n",
       "      <th>company_id</th>\n",
       "      <th>address</th>\n",
       "      <th>total_spend</th>\n",
       "      <th>address_cleaned</th>\n",
       "      <th>address_lines</th>\n",
       "      <th>city</th>\n",
       "    </tr>\n",
       "  </thead>\n",
       "  <tbody>\n",
       "    <tr>\n",
       "      <th>455</th>\n",
       "      <td>456</td>\n",
       "      <td>349 BEVERLEY ROAD,\\nANLABY,\\nHULL,\\nENGLAND,\\n...</td>\n",
       "      <td>3800</td>\n",
       "      <td>349 BEVERLEY ROAD,\\nANLABY,\\nHULL,\\nENGLAND,\\n...</td>\n",
       "      <td>5</td>\n",
       "      <td>OTHER</td>\n",
       "    </tr>\n",
       "    <tr>\n",
       "      <th>1139</th>\n",
       "      <td>1140</td>\n",
       "      <td>90 CALVERT LANE,\\nHULL,\\nENGLAND,\\nHU4 6BJ</td>\n",
       "      <td>6000</td>\n",
       "      <td>90 CALVERT LANE,\\nHULL,\\nENGLAND,\\nHU4 6BJ</td>\n",
       "      <td>4</td>\n",
       "      <td>OTHER</td>\n",
       "    </tr>\n",
       "    <tr>\n",
       "      <th>1822</th>\n",
       "      <td>1823</td>\n",
       "      <td>ACER GLADE BLACK TUP LANE,\\nARNOLD,\\nHULL,\\nEN...</td>\n",
       "      <td>4600</td>\n",
       "      <td>ACER GLADE BLACK TUP LANE,\\nARNOLD,\\nHULL,\\nEN...</td>\n",
       "      <td>5</td>\n",
       "      <td>OTHER</td>\n",
       "    </tr>\n",
       "    <tr>\n",
       "      <th>1831</th>\n",
       "      <td>1832</td>\n",
       "      <td>10 GORDON STREET,\\nHULL,\\nENGLAND,\\nHU3 3HN</td>\n",
       "      <td>5300</td>\n",
       "      <td>10 GORDON STREET,\\nHULL,\\nENGLAND,\\nHU3 3HN</td>\n",
       "      <td>4</td>\n",
       "      <td>OTHER</td>\n",
       "    </tr>\n",
       "    <tr>\n",
       "      <th>1921</th>\n",
       "      <td>1922</td>\n",
       "      <td>70 WRIGHT STREET,\\nHULL,\\nENGLAND,\\nHU2 8JD</td>\n",
       "      <td>6100</td>\n",
       "      <td>70 WRIGHT STREET,\\nHULL,\\nENGLAND,\\nHU2 8JD</td>\n",
       "      <td>4</td>\n",
       "      <td>OTHER</td>\n",
       "    </tr>\n",
       "    <tr>\n",
       "      <th>...</th>\n",
       "      <td>...</td>\n",
       "      <td>...</td>\n",
       "      <td>...</td>\n",
       "      <td>...</td>\n",
       "      <td>...</td>\n",
       "      <td>...</td>\n",
       "    </tr>\n",
       "    <tr>\n",
       "      <th>98479</th>\n",
       "      <td>98480</td>\n",
       "      <td>31-38 QUEEN STREET,\\nHULL,\\nENGLAND,\\nHU1 1UU</td>\n",
       "      <td>4500</td>\n",
       "      <td>31-38 QUEEN STREET,\\nHULL,\\nENGLAND,\\nHU1 1UU</td>\n",
       "      <td>4</td>\n",
       "      <td>OTHER</td>\n",
       "    </tr>\n",
       "    <tr>\n",
       "      <th>98886</th>\n",
       "      <td>98887</td>\n",
       "      <td>13 SALMON GROVE,\\nHULL,\\nEAST YORKSHIRE,\\nENGL...</td>\n",
       "      <td>5000</td>\n",
       "      <td>13 SALMON GROVE,\\nHULL,\\nEAST YORKSHIRE,\\nENGL...</td>\n",
       "      <td>5</td>\n",
       "      <td>OTHER</td>\n",
       "    </tr>\n",
       "    <tr>\n",
       "      <th>99196</th>\n",
       "      <td>99197</td>\n",
       "      <td>22 19TH AVENUE,\\nHULL,\\nENGLAND,\\nHU6 8HF</td>\n",
       "      <td>5900</td>\n",
       "      <td>22 19TH AVENUE,\\nHULL,\\nENGLAND,\\nHU6 8HF</td>\n",
       "      <td>4</td>\n",
       "      <td>OTHER</td>\n",
       "    </tr>\n",
       "    <tr>\n",
       "      <th>99434</th>\n",
       "      <td>99435</td>\n",
       "      <td>F14 THE BLOC SPRINGFIELD WAY,\\nANLABY,\\nHULL,\\...</td>\n",
       "      <td>3100</td>\n",
       "      <td>F14 THE BLOC SPRINGFIELD WAY,\\nANLABY,\\nHULL,\\...</td>\n",
       "      <td>6</td>\n",
       "      <td>OTHER</td>\n",
       "    </tr>\n",
       "    <tr>\n",
       "      <th>99659</th>\n",
       "      <td>99660</td>\n",
       "      <td>273 ANLABY ROAD,\\nHULL,\\nEAST RIDING OF YORKSH...</td>\n",
       "      <td>6400</td>\n",
       "      <td>273 ANLABY ROAD,\\nHULL,\\nEAST RIDING OF YORKSH...</td>\n",
       "      <td>5</td>\n",
       "      <td>OTHER</td>\n",
       "    </tr>\n",
       "  </tbody>\n",
       "</table>\n",
       "<p>284 rows × 6 columns</p>\n",
       "</div>"
      ],
      "text/plain": [
       "       company_id                                            address  \\\n",
       "455           456  349 BEVERLEY ROAD,\\nANLABY,\\nHULL,\\nENGLAND,\\n...   \n",
       "1139         1140         90 CALVERT LANE,\\nHULL,\\nENGLAND,\\nHU4 6BJ   \n",
       "1822         1823  ACER GLADE BLACK TUP LANE,\\nARNOLD,\\nHULL,\\nEN...   \n",
       "1831         1832        10 GORDON STREET,\\nHULL,\\nENGLAND,\\nHU3 3HN   \n",
       "1921         1922        70 WRIGHT STREET,\\nHULL,\\nENGLAND,\\nHU2 8JD   \n",
       "...           ...                                                ...   \n",
       "98479       98480      31-38 QUEEN STREET,\\nHULL,\\nENGLAND,\\nHU1 1UU   \n",
       "98886       98887  13 SALMON GROVE,\\nHULL,\\nEAST YORKSHIRE,\\nENGL...   \n",
       "99196       99197          22 19TH AVENUE,\\nHULL,\\nENGLAND,\\nHU6 8HF   \n",
       "99434       99435  F14 THE BLOC SPRINGFIELD WAY,\\nANLABY,\\nHULL,\\...   \n",
       "99659       99660  273 ANLABY ROAD,\\nHULL,\\nEAST RIDING OF YORKSH...   \n",
       "\n",
       "       total_spend                                    address_cleaned  \\\n",
       "455           3800  349 BEVERLEY ROAD,\\nANLABY,\\nHULL,\\nENGLAND,\\n...   \n",
       "1139          6000         90 CALVERT LANE,\\nHULL,\\nENGLAND,\\nHU4 6BJ   \n",
       "1822          4600  ACER GLADE BLACK TUP LANE,\\nARNOLD,\\nHULL,\\nEN...   \n",
       "1831          5300        10 GORDON STREET,\\nHULL,\\nENGLAND,\\nHU3 3HN   \n",
       "1921          6100        70 WRIGHT STREET,\\nHULL,\\nENGLAND,\\nHU2 8JD   \n",
       "...            ...                                                ...   \n",
       "98479         4500      31-38 QUEEN STREET,\\nHULL,\\nENGLAND,\\nHU1 1UU   \n",
       "98886         5000  13 SALMON GROVE,\\nHULL,\\nEAST YORKSHIRE,\\nENGL...   \n",
       "99196         5900          22 19TH AVENUE,\\nHULL,\\nENGLAND,\\nHU6 8HF   \n",
       "99434         3100  F14 THE BLOC SPRINGFIELD WAY,\\nANLABY,\\nHULL,\\...   \n",
       "99659         6400  273 ANLABY ROAD,\\nHULL,\\nEAST RIDING OF YORKSH...   \n",
       "\n",
       "       address_lines   city  \n",
       "455                5  OTHER  \n",
       "1139               4  OTHER  \n",
       "1822               5  OTHER  \n",
       "1831               4  OTHER  \n",
       "1921               4  OTHER  \n",
       "...              ...    ...  \n",
       "98479              4  OTHER  \n",
       "98886              5  OTHER  \n",
       "99196              4  OTHER  \n",
       "99434              6  OTHER  \n",
       "99659              5  OTHER  \n",
       "\n",
       "[284 rows x 6 columns]"
      ]
     },
     "execution_count": 20,
     "metadata": {},
     "output_type": "execute_result"
    }
   ],
   "source": [
    "customers_data[customers_data['address_cleaned'].str.contains('\\nHULL,')]"
   ]
  },
  {
   "cell_type": "markdown",
   "metadata": {},
   "source": [
    "The output of this code tells us there are 284 relevant records. We can manually update our city column to fix this problem:"
   ]
  },
  {
   "cell_type": "code",
   "execution_count": 21,
   "metadata": {},
   "outputs": [
    {
     "name": "stdout",
     "output_type": "stream",
     "text": [
      "city\n",
      "OTHER                  53578\n",
      "LONDON                 20931\n",
      "MANCHESTER              1902\n",
      "BIRMINGHAM              1866\n",
      "GLASGOW                 1273\n",
      "                       ...  \n",
      "WESTMINSTER               10\n",
      "ST ASAPH                   9\n",
      "BRIGHTON & HOVE            2\n",
      "NEWCASTLE-UPON-TYNE        2\n",
      "ST DAVIDS                  2\n",
      "Name: count, Length: 77, dtype: int64\n"
     ]
    }
   ],
   "source": [
    "customers_data.loc[customers_data['address_cleaned'].str.contains('\\nHULL'),'city']='HULL'\n",
    "print(customers_data['city'].value_counts())"
   ]
  },
  {
   "cell_type": "code",
   "execution_count": 22,
   "metadata": {},
   "outputs": [],
   "source": [
    "customers_data.to_csv(r\"..\\Data\\cleaned_customers_data.csv\")"
   ]
  },
  {
   "cell_type": "code",
   "execution_count": 24,
   "metadata": {},
   "outputs": [
    {
     "data": {
      "text/html": [
       "<div>\n",
       "<style scoped>\n",
       "    .dataframe tbody tr th:only-of-type {\n",
       "        vertical-align: middle;\n",
       "    }\n",
       "\n",
       "    .dataframe tbody tr th {\n",
       "        vertical-align: top;\n",
       "    }\n",
       "\n",
       "    .dataframe thead th {\n",
       "        text-align: right;\n",
       "    }\n",
       "</style>\n",
       "<table border=\"1\" class=\"dataframe\">\n",
       "  <thead>\n",
       "    <tr style=\"text-align: right;\">\n",
       "      <th></th>\n",
       "      <th>company_id</th>\n",
       "      <th>address</th>\n",
       "      <th>total_spend</th>\n",
       "      <th>address_cleaned</th>\n",
       "      <th>address_lines</th>\n",
       "      <th>city</th>\n",
       "    </tr>\n",
       "  </thead>\n",
       "  <tbody>\n",
       "    <tr>\n",
       "      <th>0</th>\n",
       "      <td>1</td>\n",
       "      <td>APARTMENT 2,\\n52 BEDFORD ROAD,\\nLONDON,\\nENGLA...</td>\n",
       "      <td>5700</td>\n",
       "      <td>APARTMENT 2,\\n52 BEDFORD ROAD,\\nLONDON,\\nENGLA...</td>\n",
       "      <td>5</td>\n",
       "      <td>LONDON</td>\n",
       "    </tr>\n",
       "    <tr>\n",
       "      <th>1</th>\n",
       "      <td>2</td>\n",
       "      <td>107 SHERINGHAM AVENUE,\\nLONDON,\\nN14 4UJ</td>\n",
       "      <td>4700</td>\n",
       "      <td>107 SHERINGHAM AVENUE,\\nLONDON,\\nN14 4UJ</td>\n",
       "      <td>3</td>\n",
       "      <td>LONDON</td>\n",
       "    </tr>\n",
       "    <tr>\n",
       "      <th>2</th>\n",
       "      <td>3</td>\n",
       "      <td>43 SUNNINGDALE,\\nYATE,\\nBRISTOL,\\nENGLAND,\\nBS...</td>\n",
       "      <td>5900</td>\n",
       "      <td>43 SUNNINGDALE,\\nYATE,\\nBRISTOL,\\nENGLAND,\\nBS...</td>\n",
       "      <td>5</td>\n",
       "      <td>BRISTOL</td>\n",
       "    </tr>\n",
       "    <tr>\n",
       "      <th>3</th>\n",
       "      <td>4</td>\n",
       "      <td>HAWESWATER HOUSE,\\nLINGLEY MERE BUSINESS PARK,...</td>\n",
       "      <td>7200</td>\n",
       "      <td>HAWESWATER HOUSE,\\nLINGLEY MERE BUSINESS PARK,...</td>\n",
       "      <td>5</td>\n",
       "      <td>OTHER</td>\n",
       "    </tr>\n",
       "    <tr>\n",
       "      <th>4</th>\n",
       "      <td>5</td>\n",
       "      <td>AMBERFIELD BARN HOUSE AMBER LANE,\\nCHART SUTTO...</td>\n",
       "      <td>4600</td>\n",
       "      <td>AMBERFIELD BARN HOUSE AMBER LANE,\\nCHART SUTTO...</td>\n",
       "      <td>5</td>\n",
       "      <td>OTHER</td>\n",
       "    </tr>\n",
       "  </tbody>\n",
       "</table>\n",
       "</div>"
      ],
      "text/plain": [
       "   company_id                                            address  total_spend  \\\n",
       "0           1  APARTMENT 2,\\n52 BEDFORD ROAD,\\nLONDON,\\nENGLA...         5700   \n",
       "1           2           107 SHERINGHAM AVENUE,\\nLONDON,\\nN14 4UJ         4700   \n",
       "2           3  43 SUNNINGDALE,\\nYATE,\\nBRISTOL,\\nENGLAND,\\nBS...         5900   \n",
       "3           4  HAWESWATER HOUSE,\\nLINGLEY MERE BUSINESS PARK,...         7200   \n",
       "4           5  AMBERFIELD BARN HOUSE AMBER LANE,\\nCHART SUTTO...         4600   \n",
       "\n",
       "                                     address_cleaned  address_lines     city  \n",
       "0  APARTMENT 2,\\n52 BEDFORD ROAD,\\nLONDON,\\nENGLA...              5   LONDON  \n",
       "1           107 SHERINGHAM AVENUE,\\nLONDON,\\nN14 4UJ              3   LONDON  \n",
       "2  43 SUNNINGDALE,\\nYATE,\\nBRISTOL,\\nENGLAND,\\nBS...              5  BRISTOL  \n",
       "3  HAWESWATER HOUSE,\\nLINGLEY MERE BUSINESS PARK,...              5    OTHER  \n",
       "4  AMBERFIELD BARN HOUSE AMBER LANE,\\nCHART SUTTO...              5    OTHER  "
      ]
     },
     "execution_count": 24,
     "metadata": {},
     "output_type": "execute_result"
    }
   ],
   "source": [
    "customers_data.head()"
   ]
  },
  {
   "cell_type": "code",
   "execution_count": 25,
   "metadata": {},
   "outputs": [
    {
     "name": "stdout",
     "output_type": "stream",
     "text": [
      "             city  total_spend\n",
      "0        ABERDEEN      1322700\n",
      "1          ARMAGH       263400\n",
      "2          BANGOR       292000\n",
      "3            BATH      1010400\n",
      "4         BELFAST      2059400\n",
      "..            ...          ...\n",
      "72     WINCHESTER       613900\n",
      "73  WOLVERHAMPTON      1907600\n",
      "74      WORCESTER       867900\n",
      "75        WREXHAM       580800\n",
      "76           YORK      1728500\n",
      "\n",
      "[77 rows x 2 columns]\n"
     ]
    }
   ],
   "source": [
    "# Aggregate total spend by city\n",
    "regional_spending = customers_data.groupby('city')['total_spend'].sum().reset_index()\n",
    "\n",
    "# Display the result\n",
    "print(regional_spending)"
   ]
  },
  {
   "cell_type": "code",
   "execution_count": 28,
   "metadata": {},
   "outputs": [],
   "source": [
    "regional_spending.to_csv(r'..\\Data\\RegionalSpending.csv')"
   ]
  },
  {
   "cell_type": "code",
   "execution_count": 29,
   "metadata": {},
   "outputs": [
    {
     "name": "stdout",
     "output_type": "stream",
     "text": [
      "             city  market_penetration\n",
      "0        ABERDEEN            0.269733\n",
      "1          ARMAGH            0.053714\n",
      "2          BANGOR            0.059546\n",
      "3            BATH            0.206047\n",
      "4         BELFAST            0.419965\n",
      "..            ...                 ...\n",
      "72     WINCHESTER            0.125190\n",
      "73  WOLVERHAMPTON            0.389009\n",
      "74      WORCESTER            0.176987\n",
      "75        WREXHAM            0.118440\n",
      "76           YORK            0.352486\n",
      "\n",
      "[77 rows x 2 columns]\n"
     ]
    }
   ],
   "source": [
    "# Calculate total spend\n",
    "total_spend = customers_data['total_spend'].sum()\n",
    "\n",
    "# Calculate market penetration\n",
    "customers_data['market_penetration'] = (customers_data['total_spend'] / total_spend) * 100\n",
    "\n",
    "# Aggregate by city\n",
    "city_market_penetration = customers_data.groupby('city')['market_penetration'].sum().reset_index()\n",
    "city_market_penetration.to_csv(r'..\\Data\\CityMarketPenetration.csv')\n",
    "# Display the result\n",
    "print(city_market_penetration)"
   ]
  }
 ],
 "metadata": {
  "kernelspec": {
   "display_name": ".venv",
   "language": "python",
   "name": "python3"
  },
  "language_info": {
   "codemirror_mode": {
    "name": "ipython",
    "version": 3
   },
   "file_extension": ".py",
   "mimetype": "text/x-python",
   "name": "python",
   "nbconvert_exporter": "python",
   "pygments_lexer": "ipython3",
   "version": "3.11.7"
  }
 },
 "nbformat": 4,
 "nbformat_minor": 2
}
